{
 "cells": [
  {
   "cell_type": "code",
   "execution_count": 1,
   "metadata": {},
   "outputs": [],
   "source": [
    "import sys\n",
    "\n",
    "import numpy as np\n",
    "import pandas as pd\n",
    "\n",
    "from sklearn.datasets import make_regression\n"
   ]
  },
  {
   "cell_type": "code",
   "execution_count": 2,
   "metadata": {},
   "outputs": [
    {
     "name": "stdout",
     "output_type": "stream",
     "text": [
      "   Feature_1  Feature_2  Feature_3  Feature_4  Feature_5  Feature_6  \\\n",
      "0  -1.764389   0.460320   0.433077   0.024548   0.474093   0.627299   \n",
      "1   0.250289   2.106588   0.697111   1.164758   0.886688  -0.403761   \n",
      "2  -0.799830  -0.115744   0.792541  -1.197304  -0.254514   0.022244   \n",
      "3  -0.776549  -1.911951  -0.380405  -1.463214   2.097378   0.470284   \n",
      "4  -0.762134   0.248931   0.115716   0.990664  -0.711780  -0.376125   \n",
      "\n",
      "   Feature_7  Feature_8  Feature_9  Feature_10  ...  Feature_66  Feature_67  \\\n",
      "0  -0.002908  -0.205944   0.514504    1.163743  ...    0.063879   -0.898047   \n",
      "1  -0.135772  -1.953848  -1.247171   -0.177695  ...    0.896385    0.561336   \n",
      "2  -0.062386  -0.163041   2.274531   -0.697315  ...   -0.903302   -1.660583   \n",
      "3  -0.750628  -0.721114   1.192973    0.442310  ...   -2.253413   -0.626872   \n",
      "4   0.049101  -1.995285  -0.072153   -0.675385  ...    0.786182   -0.116393   \n",
      "\n",
      "   Feature_68  Feature_69  Feature_70  Feature_71  Feature_72  Feature_73  \\\n",
      "0    0.532052   -0.232856    0.541851    0.572830    0.831758    1.203283   \n",
      "1   -0.384012    1.334148   -1.987328    1.405936    0.741664    1.222379   \n",
      "2   -1.939955   -1.577799    0.278413    0.161049   -0.536142   -0.161194   \n",
      "3    0.721056   -0.419704    0.059472    1.587905   -0.651119    0.199705   \n",
      "4   -1.268976   -1.059100    0.197489   -0.400737    0.287667    1.361735   \n",
      "\n",
      "   Feature_74  Feature_75  \n",
      "0   -0.672047   -1.355940  \n",
      "1   -1.054202   -0.405516  \n",
      "2   -0.213571   -0.623900  \n",
      "3    0.270861   -0.560027  \n",
      "4   -0.482540    0.247273  \n",
      "\n",
      "[5 rows x 75 columns]\n"
     ]
    }
   ],
   "source": [
    "NUM_FEATURES = 75\n",
    "# Generate synthetic regression data\n",
    "X, y = make_regression(n_samples=20000, n_features=NUM_FEATURES, noise=0.1)\n",
    "\n",
    "# Convert to pandas DataFrame\n",
    "df = pd.DataFrame(data=X, columns=[f'Feature_{i}' for i in range(1, NUM_FEATURES+1)])\n",
    "df['Target'] = y\n",
    "\n",
    "df_data = df.drop('Target', axis=1).astype('float32')\n",
    "\n",
    "print(df_data.head())"
   ]
  },
  {
   "cell_type": "code",
   "execution_count": 3,
   "metadata": {},
   "outputs": [
    {
     "data": {
      "text/plain": [
       "Feature_1     float32\n",
       "Feature_2     float32\n",
       "Feature_3     float32\n",
       "Feature_4     float32\n",
       "Feature_5     float32\n",
       "               ...   \n",
       "Feature_71    float32\n",
       "Feature_72    float32\n",
       "Feature_73    float32\n",
       "Feature_74    float32\n",
       "Feature_75    float32\n",
       "Length: 75, dtype: object"
      ]
     },
     "execution_count": 3,
     "metadata": {},
     "output_type": "execute_result"
    }
   ],
   "source": [
    "df_data.dtypes"
   ]
  },
  {
   "cell_type": "code",
   "execution_count": 4,
   "metadata": {},
   "outputs": [],
   "source": [
    "# Define the number of bins\n",
    "num_bins = 75\n",
    "\n",
    "# Initialize an empty list to store the bin boundaries for each column\n",
    "bin_boundaries = {}\n",
    "quantiles = np.linspace(0, 1, num_bins + 1)\n",
    "\n",
    "# Loop through each column and compute the bin boundaries\n",
    "for fn in df_data.columns:  # Iterate over columns\n",
    "    column_data = df_data[fn]  # Extract the current column\n",
    "    boundaries = column_data.quantile(quantiles) # Compute the bin boundaries for the current column\n",
    "    bin_boundaries[fn] = boundaries  # Add the bin boundaries to     bin_boundaries.append(boundaries)  # Add the bin boundaries to the list\n",
    "\n",
    "# print(f\"\\nBin boundaries:\")\n",
    "# # Print the bin boundaries for each column\n",
    "# for i, boundaries in bin_boundaries.items():\n",
    "#     print(f\"Column {i} bin boundaries:\\n{boundaries}\")\n"
   ]
  },
  {
   "cell_type": "code",
   "execution_count": 5,
   "metadata": {},
   "outputs": [
    {
     "name": "stdout",
     "output_type": "stream",
     "text": [
      "encoded_data1 shape: (20000, 75, 75)\n",
      "CPU times: user 616 ms, sys: 820 ms, total: 1.44 s\n",
      "Wall time: 1.43 s\n"
     ]
    }
   ],
   "source": [
    "%%time\n",
    "# Loop through each column and perform piecewise linear encoding\n",
    "\n",
    "encode_data_list = []\n",
    "idxs_list = []\n",
    "encoded_value_list = []\n",
    "for fn in df_data.columns:  # Iterate over columns\n",
    "    column_data = df_data[fn].values  # Extract the current column\n",
    "    column_bin_boundaries = np.array(bin_boundaries[fn])  # Get the bin boundaries for the current column\n",
    "\n",
    "    # Initialize a matrix of all ones to store the encoded data\n",
    "    encoded_data = np.ones([column_data.shape[0], num_bins])\n",
    "    # print(f\"encoded_data0:\\n{encoded_data}\")\n",
    "    \n",
    "    # Use np.digitize to find the bin indices for each data point\n",
    "    bin_indices = np.digitize(column_data, column_bin_boundaries) - 1\n",
    "    # print(f\"column_bin_boundaries:\\n{column_bin_boundaries}\")\n",
    "    # print(f\"zip(columndata, bin_indices):\\n{list(zip(column_data, bin_indices))}\")\n",
    "\n",
    "    # compute numerator, adjust for edge case at max value\n",
    "    # find the bin min for each data point\n",
    "    bin_min = column_bin_boundaries[bin_indices]\n",
    "\n",
    "    # for maximum data point, set bin min to second to last bin boundary\n",
    "    bin_min[bin_indices == num_bins] = column_bin_boundaries[-2]\n",
    "\n",
    "    # compute the bin numerator for each data point\n",
    "    bin_numerator = column_data - bin_min\n",
    "    # print(f\"\\nbin_numerator:\\n{bin_numerator}\")\n",
    "    \n",
    "    # Calculate the bin widths based on the bin boundaries\n",
    "    bin_widths = np.diff(column_bin_boundaries)\n",
    "\n",
    "    # adjust for edge case of last bin\n",
    "    idxs = bin_indices\n",
    "    idxs[idxs == num_bins] = num_bins - 1\n",
    "    # for maximum data point, set bin width to last bin boundary\n",
    "\n",
    "    bin_denominator = bin_widths[idxs]\n",
    "    # print(f\"\\nbin_widths:\\n{bin_widths}\")\n",
    "   \n",
    "    # Calculate the encoded value of each data point within the selected bin\n",
    "    encoded_values = bin_numerator / bin_denominator\n",
    "   \n",
    "    # Create a mask to store the encoded value in the corresponding column of encoded_data\n",
    "    mask = np.zeros_like(encoded_data, dtype=bool)\n",
    "    mask[np.arange(encoded_data.shape[0]), bin_indices] = True\n",
    "\n",
    "    # Store the encoded value in the corresponding column of encoded_data\n",
    "    encoded_data[mask] = encoded_values\n",
    "\n",
    "    # Create mask to set all values after the column-specific bin index to 0\n",
    "    mask = np.tile(np.arange(encoded_data.shape[1]), (encoded_data.shape[0], 1))\n",
    "    mask = mask > bin_indices.reshape(-1, 1)\n",
    "    encoded_data[mask] = 0\n",
    "\n",
    "    encode_data_list.append(encoded_data)\n",
    "    idxs_list.append(bin_indices)\n",
    "    encoded_value_list.append(encoded_values)\n",
    "\n",
    "# encoded_data now contains the piecewise linear encoding for each column\n",
    "encoded_data1 = np.array(encode_data_list).transpose(1, 0, 2)\n",
    "idxs = np.vstack(idxs_list).T\n",
    "# print(f\"Encoded data1: {encoded_data.shape}\\n{encoded_data1}\")\n",
    "# print(f\"idxs: {idxs.shape}\\n{idxs}\")\n",
    "print(f\"encoded_data1 shape: {encoded_data1.shape}\")\n",
    "\n"
   ]
  },
  {
   "cell_type": "code",
   "execution_count": 10,
   "metadata": {},
   "outputs": [],
   "source": [
    "from ple_transformer import MyTransformer1 as MyTransformer"
   ]
  },
  {
   "cell_type": "code",
   "execution_count": 11,
   "metadata": {},
   "outputs": [
    {
     "name": "stdout",
     "output_type": "stream",
     "text": [
      "CPU times: user 206 ms, sys: 0 ns, total: 206 ms\n",
      "Wall time: 204 ms\n"
     ]
    },
    {
     "data": {
      "text/html": [
       "<style>#sk-container-id-2 {color: black;}#sk-container-id-2 pre{padding: 0;}#sk-container-id-2 div.sk-toggleable {background-color: white;}#sk-container-id-2 label.sk-toggleable__label {cursor: pointer;display: block;width: 100%;margin-bottom: 0;padding: 0.3em;box-sizing: border-box;text-align: center;}#sk-container-id-2 label.sk-toggleable__label-arrow:before {content: \"▸\";float: left;margin-right: 0.25em;color: #696969;}#sk-container-id-2 label.sk-toggleable__label-arrow:hover:before {color: black;}#sk-container-id-2 div.sk-estimator:hover label.sk-toggleable__label-arrow:before {color: black;}#sk-container-id-2 div.sk-toggleable__content {max-height: 0;max-width: 0;overflow: hidden;text-align: left;background-color: #f0f8ff;}#sk-container-id-2 div.sk-toggleable__content pre {margin: 0.2em;color: black;border-radius: 0.25em;background-color: #f0f8ff;}#sk-container-id-2 input.sk-toggleable__control:checked~div.sk-toggleable__content {max-height: 200px;max-width: 100%;overflow: auto;}#sk-container-id-2 input.sk-toggleable__control:checked~label.sk-toggleable__label-arrow:before {content: \"▾\";}#sk-container-id-2 div.sk-estimator input.sk-toggleable__control:checked~label.sk-toggleable__label {background-color: #d4ebff;}#sk-container-id-2 div.sk-label input.sk-toggleable__control:checked~label.sk-toggleable__label {background-color: #d4ebff;}#sk-container-id-2 input.sk-hidden--visually {border: 0;clip: rect(1px 1px 1px 1px);clip: rect(1px, 1px, 1px, 1px);height: 1px;margin: -1px;overflow: hidden;padding: 0;position: absolute;width: 1px;}#sk-container-id-2 div.sk-estimator {font-family: monospace;background-color: #f0f8ff;border: 1px dotted black;border-radius: 0.25em;box-sizing: border-box;margin-bottom: 0.5em;}#sk-container-id-2 div.sk-estimator:hover {background-color: #d4ebff;}#sk-container-id-2 div.sk-parallel-item::after {content: \"\";width: 100%;border-bottom: 1px solid gray;flex-grow: 1;}#sk-container-id-2 div.sk-label:hover label.sk-toggleable__label {background-color: #d4ebff;}#sk-container-id-2 div.sk-serial::before {content: \"\";position: absolute;border-left: 1px solid gray;box-sizing: border-box;top: 0;bottom: 0;left: 50%;z-index: 0;}#sk-container-id-2 div.sk-serial {display: flex;flex-direction: column;align-items: center;background-color: white;padding-right: 0.2em;padding-left: 0.2em;position: relative;}#sk-container-id-2 div.sk-item {position: relative;z-index: 1;}#sk-container-id-2 div.sk-parallel {display: flex;align-items: stretch;justify-content: center;background-color: white;position: relative;}#sk-container-id-2 div.sk-item::before, #sk-container-id-2 div.sk-parallel-item::before {content: \"\";position: absolute;border-left: 1px solid gray;box-sizing: border-box;top: 0;bottom: 0;left: 50%;z-index: -1;}#sk-container-id-2 div.sk-parallel-item {display: flex;flex-direction: column;z-index: 1;position: relative;background-color: white;}#sk-container-id-2 div.sk-parallel-item:first-child::after {align-self: flex-end;width: 50%;}#sk-container-id-2 div.sk-parallel-item:last-child::after {align-self: flex-start;width: 50%;}#sk-container-id-2 div.sk-parallel-item:only-child::after {width: 0;}#sk-container-id-2 div.sk-dashed-wrapped {border: 1px dashed gray;margin: 0 0.4em 0.5em 0.4em;box-sizing: border-box;padding-bottom: 0.4em;background-color: white;}#sk-container-id-2 div.sk-label label {font-family: monospace;font-weight: bold;display: inline-block;line-height: 1.2em;}#sk-container-id-2 div.sk-label-container {text-align: center;}#sk-container-id-2 div.sk-container {/* jupyter's `normalize.less` sets `[hidden] { display: none; }` but bootstrap.min.css set `[hidden] { display: none !important; }` so we also need the `!important` here to be able to override the default hidden behavior on the sphinx rendered scikit-learn.org. See: https://github.com/scikit-learn/scikit-learn/issues/21755 */display: inline-block !important;position: relative;}#sk-container-id-2 div.sk-text-repr-fallback {display: none;}</style><div id=\"sk-container-id-2\" class=\"sk-top-container\"><div class=\"sk-text-repr-fallback\"><pre>MyTransformer2(num_bins=75)</pre><b>In a Jupyter environment, please rerun this cell to show the HTML representation or trust the notebook. <br />On GitHub, the HTML representation is unable to render, please try loading this page with nbviewer.org.</b></div><div class=\"sk-container\" hidden><div class=\"sk-item\"><div class=\"sk-estimator sk-toggleable\"><input class=\"sk-toggleable__control sk-hidden--visually\" id=\"sk-estimator-id-2\" type=\"checkbox\" checked><label for=\"sk-estimator-id-2\" class=\"sk-toggleable__label sk-toggleable__label-arrow\">MyTransformer2</label><div class=\"sk-toggleable__content\"><pre>MyTransformer2(num_bins=75)</pre></div></div></div></div></div>"
      ],
      "text/plain": [
       "MyTransformer2(num_bins=75)"
      ]
     },
     "execution_count": 11,
     "metadata": {},
     "output_type": "execute_result"
    }
   ],
   "source": [
    "%%time\n",
    "# Create an instance of the transformer\n",
    "transformer = MyTransformer(num_bins=75)\n",
    "\n",
    "# Fit the transformer to the data\n",
    "transformer.fit(df_data)\n"
   ]
  },
  {
   "cell_type": "code",
   "execution_count": 12,
   "metadata": {},
   "outputs": [
    {
     "name": "stdout",
     "output_type": "stream",
     "text": [
      "CPU times: user 724 ms, sys: 205 ms, total: 929 ms\n",
      "Wall time: 926 ms\n"
     ]
    }
   ],
   "source": [
    "\n",
    "%%time\n",
    "# Transform the data using the fitted transformer\n",
    "encoded_data2 = transformer.transform(df_data)\n"
   ]
  },
  {
   "cell_type": "code",
   "execution_count": 13,
   "metadata": {},
   "outputs": [
    {
     "name": "stdout",
     "output_type": "stream",
     "text": [
      "encoded_data1 == encoded_data2: True\n",
      "CPU times: user 964 ms, sys: 169 ms, total: 1.13 s\n",
      "Wall time: 1.13 s\n"
     ]
    }
   ],
   "source": [
    "%%time\n",
    "# print(f\"sklearn Encoded data: {encoded_data2.shape}\\n{encoded_data2}\")\n",
    "\n",
    "print(f\"encoded_data1 == encoded_data2: {np.allclose(encoded_data1, encoded_data2)}\")"
   ]
  },
  {
   "cell_type": "code",
   "execution_count": 14,
   "metadata": {},
   "outputs": [
    {
     "data": {
      "text/plain": [
       "dtype('float64')"
      ]
     },
     "execution_count": 14,
     "metadata": {},
     "output_type": "execute_result"
    }
   ],
   "source": [
    "encoded_data2.dtype"
   ]
  },
  {
   "cell_type": "code",
   "execution_count": null,
   "metadata": {},
   "outputs": [],
   "source": []
  }
 ],
 "metadata": {
  "kernelspec": {
   "display_name": "Python 3",
   "language": "python",
   "name": "python3"
  },
  "language_info": {
   "codemirror_mode": {
    "name": "ipython",
    "version": 3
   },
   "file_extension": ".py",
   "mimetype": "text/x-python",
   "name": "python",
   "nbconvert_exporter": "python",
   "pygments_lexer": "ipython3",
   "version": "3.10.13"
  }
 },
 "nbformat": 4,
 "nbformat_minor": 2
}
