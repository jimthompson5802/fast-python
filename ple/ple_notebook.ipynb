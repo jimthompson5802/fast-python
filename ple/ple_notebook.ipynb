{
 "cells": [
  {
   "cell_type": "code",
   "execution_count": 1,
   "metadata": {},
   "outputs": [],
   "source": [
    "import sys\n",
    "\n",
    "import numpy as np\n",
    "import pandas as pd\n",
    "\n",
    "from sklearn.datasets import make_regression\n"
   ]
  },
  {
   "cell_type": "code",
   "execution_count": 2,
   "metadata": {},
   "outputs": [
    {
     "name": "stdout",
     "output_type": "stream",
     "text": [
      "   Feature_1  Feature_2  Feature_3  Feature_4  Feature_5  Feature_6  \\\n",
      "0  -0.114686  -0.688847  -0.810012   0.186895  -0.078368   0.446053   \n",
      "1   0.931153   0.651449   0.342267   0.172851   1.198334  -1.492716   \n",
      "2  -1.296885   2.090927   0.638129   0.679499  -1.673971  -0.416401   \n",
      "3   0.836807  -0.493522  -0.156829   0.176909  -0.835537  -2.640528   \n",
      "4  -1.692138   0.557319  -0.418471  -1.271486  -0.775110  -1.262629   \n",
      "\n",
      "   Feature_7  Feature_8  Feature_9  Feature_10  ...  Feature_66  Feature_67  \\\n",
      "0   0.636313   0.431090  -0.100530   -0.781681  ...   -0.891808   -0.520644   \n",
      "1   0.714839   1.110767  -0.021322   -0.921828  ...   -0.321143   -1.631833   \n",
      "2  -0.102578   1.027223  -0.562475   -0.540435  ...   -0.066197   -0.419002   \n",
      "3  -0.548480  -0.419266  -1.090254   -0.809320  ...   -1.292386    2.323236   \n",
      "4   0.425924   0.606922   1.211993   -0.825758  ...   -1.101874    0.843631   \n",
      "\n",
      "   Feature_68  Feature_69  Feature_70  Feature_71  Feature_72  Feature_73  \\\n",
      "0    2.671463    1.279758   -0.137794   -0.106371    1.237347   -0.897643   \n",
      "1    1.318967    1.629706    0.994861    0.396353   -1.182275   -0.431794   \n",
      "2    0.135060   -0.771706   -0.566142    0.033262   -2.274626    0.867909   \n",
      "3    0.823657    0.719621    0.475296   -0.442816    1.339290    0.848080   \n",
      "4    1.296327   -0.350170   -0.326920    1.033266   -0.164686    0.958194   \n",
      "\n",
      "   Feature_74  Feature_75  \n",
      "0   -0.108840   -0.148170  \n",
      "1   -0.016184    0.142930  \n",
      "2   -0.438405    2.137997  \n",
      "3   -0.440700   -0.684369  \n",
      "4   -0.455218    0.423228  \n",
      "\n",
      "[5 rows x 75 columns]\n"
     ]
    }
   ],
   "source": [
    "NUM_FEATURES = 75\n",
    "# Generate synthetic regression data\n",
    "X, y = make_regression(n_samples=20000, n_features=NUM_FEATURES, noise=0.1)\n",
    "\n",
    "# Convert to pandas DataFrame\n",
    "df = pd.DataFrame(data=X, columns=[f'Feature_{i}' for i in range(1, NUM_FEATURES+1)])\n",
    "df['Target'] = y\n",
    "\n",
    "df_data = df.drop('Target', axis=1)  #.astype('float32')\n",
    "\n",
    "print(df_data.head())"
   ]
  },
  {
   "cell_type": "code",
   "execution_count": 3,
   "metadata": {},
   "outputs": [
    {
     "data": {
      "text/plain": [
       "Feature_1     float64\n",
       "Feature_2     float64\n",
       "Feature_3     float64\n",
       "Feature_4     float64\n",
       "Feature_5     float64\n",
       "               ...   \n",
       "Feature_71    float64\n",
       "Feature_72    float64\n",
       "Feature_73    float64\n",
       "Feature_74    float64\n",
       "Feature_75    float64\n",
       "Length: 75, dtype: object"
      ]
     },
     "execution_count": 3,
     "metadata": {},
     "output_type": "execute_result"
    }
   ],
   "source": [
    "df_data.dtypes"
   ]
  },
  {
   "cell_type": "code",
   "execution_count": 4,
   "metadata": {},
   "outputs": [],
   "source": [
    "# Define the number of bins\n",
    "num_bins = 75\n",
    "\n",
    "# Initialize an empty list to store the bin boundaries for each column\n",
    "bin_boundaries = {}\n",
    "quantiles = np.linspace(0, 1, num_bins + 1)\n",
    "\n",
    "# Loop through each column and compute the bin boundaries\n",
    "for fn in df_data.columns:  # Iterate over columns\n",
    "    column_data = df_data[fn]  # Extract the current column\n",
    "    boundaries = column_data.quantile(quantiles) # Compute the bin boundaries for the current column\n",
    "    bin_boundaries[fn] = boundaries  # Add the bin boundaries to     bin_boundaries.append(boundaries)  # Add the bin boundaries to the list\n",
    "\n",
    "# print(f\"\\nBin boundaries:\")\n",
    "# # Print the bin boundaries for each column\n",
    "# for i, boundaries in bin_boundaries.items():\n",
    "#     print(f\"Column {i} bin boundaries:\\n{boundaries}\")\n"
   ]
  },
  {
   "cell_type": "code",
   "execution_count": 5,
   "metadata": {},
   "outputs": [
    {
     "name": "stdout",
     "output_type": "stream",
     "text": [
      "encoded_data1 shape: (20000, 75, 75)\n",
      "CPU times: user 767 ms, sys: 60.5 ms, total: 828 ms\n",
      "Wall time: 826 ms\n"
     ]
    }
   ],
   "source": [
    "%%time\n",
    "# Loop through each column and perform piecewise linear encoding\n",
    "\n",
    "encode_data_list = []\n",
    "idxs_list = []\n",
    "encoded_value_list = []\n",
    "for fn in df_data.columns:  # Iterate over columns\n",
    "    column_data = df_data[fn].values  # Extract the current column\n",
    "    column_bin_boundaries = np.array(bin_boundaries[fn])  # Get the bin boundaries for the current column\n",
    "\n",
    "    # Initialize a matrix of all ones to store the encoded data\n",
    "    encoded_data = np.ones([column_data.shape[0], num_bins])\n",
    "    # print(f\"encoded_data0:\\n{encoded_data}\")\n",
    "    \n",
    "    # Use np.digitize to find the bin indices for each data point\n",
    "    bin_indices = np.digitize(column_data, column_bin_boundaries) - 1\n",
    "    # print(f\"column_bin_boundaries:\\n{column_bin_boundaries}\")\n",
    "    # print(f\"zip(columndata, bin_indices):\\n{list(zip(column_data, bin_indices))}\")\n",
    "\n",
    "    # compute numerator, adjust for edge case at max value\n",
    "    # find the bin min for each data point\n",
    "    bin_min = column_bin_boundaries[bin_indices]\n",
    "\n",
    "    # for maximum data point, set bin min to second to last bin boundary\n",
    "    bin_min[bin_indices == num_bins] = column_bin_boundaries[-2]\n",
    "\n",
    "    # compute the bin numerator for each data point\n",
    "    bin_numerator = column_data - bin_min\n",
    "    # print(f\"\\nbin_numerator:\\n{bin_numerator}\")\n",
    "    \n",
    "    # Calculate the bin widths based on the bin boundaries\n",
    "    bin_widths = np.diff(column_bin_boundaries)\n",
    "\n",
    "    # adjust for edge case of last bin\n",
    "    idxs = bin_indices\n",
    "    idxs[idxs == num_bins] = num_bins - 1\n",
    "    # for maximum data point, set bin width to last bin boundary\n",
    "\n",
    "    bin_denominator = bin_widths[idxs]\n",
    "    # print(f\"\\nbin_widths:\\n{bin_widths}\")\n",
    "   \n",
    "    # Calculate the encoded value of each data point within the selected bin\n",
    "    encoded_values = bin_numerator / bin_denominator\n",
    "   \n",
    "    # Create a mask to store the encoded value in the corresponding column of encoded_data\n",
    "    mask = np.zeros_like(encoded_data, dtype=bool)\n",
    "    mask[np.arange(encoded_data.shape[0]), bin_indices] = True\n",
    "\n",
    "    # Store the encoded value in the corresponding column of encoded_data\n",
    "    encoded_data[mask] = encoded_values\n",
    "\n",
    "    # Create mask to set all values after the column-specific bin index to 0\n",
    "    mask = np.tile(np.arange(encoded_data.shape[1]), (encoded_data.shape[0], 1))\n",
    "    mask = mask > bin_indices.reshape(-1, 1)\n",
    "    encoded_data[mask] = 0\n",
    "\n",
    "    encode_data_list.append(encoded_data)\n",
    "    idxs_list.append(bin_indices)\n",
    "    encoded_value_list.append(encoded_values)\n",
    "\n",
    "# encoded_data now contains the piecewise linear encoding for each column\n",
    "encoded_data1 = np.array(encode_data_list).transpose(1, 0, 2)\n",
    "idxs = np.vstack(idxs_list).T\n",
    "# print(f\"Encoded data1: {encoded_data.shape}\\n{encoded_data1}\")\n",
    "# print(f\"idxs: {idxs.shape}\\n{idxs}\")\n",
    "print(f\"encoded_data1 shape: {encoded_data1.shape}\")\n",
    "\n"
   ]
  },
  {
   "cell_type": "markdown",
   "metadata": {},
   "source": [
    "import os\n",
    "os.environ[\"NUMBA_DEBUG\"] = \"1\""
   ]
  },
  {
   "cell_type": "code",
   "execution_count": 6,
   "metadata": {},
   "outputs": [
    {
     "name": "stdout",
     "output_type": "stream",
     "text": [
      "CPU times: user 2.79 s, sys: 0 ns, total: 2.79 s\n",
      "Wall time: 2.8 s\n"
     ]
    }
   ],
   "source": [
    "%%time\n",
    "from ple_transformer import MyTransformer3 as MyTransformer"
   ]
  },
  {
   "cell_type": "code",
   "execution_count": 7,
   "metadata": {},
   "outputs": [
    {
     "name": "stdout",
     "output_type": "stream",
     "text": [
      "CPU times: user 146 ms, sys: 0 ns, total: 146 ms\n",
      "Wall time: 144 ms\n"
     ]
    },
    {
     "data": {
      "text/html": [
       "<style>#sk-container-id-1 {color: black;}#sk-container-id-1 pre{padding: 0;}#sk-container-id-1 div.sk-toggleable {background-color: white;}#sk-container-id-1 label.sk-toggleable__label {cursor: pointer;display: block;width: 100%;margin-bottom: 0;padding: 0.3em;box-sizing: border-box;text-align: center;}#sk-container-id-1 label.sk-toggleable__label-arrow:before {content: \"▸\";float: left;margin-right: 0.25em;color: #696969;}#sk-container-id-1 label.sk-toggleable__label-arrow:hover:before {color: black;}#sk-container-id-1 div.sk-estimator:hover label.sk-toggleable__label-arrow:before {color: black;}#sk-container-id-1 div.sk-toggleable__content {max-height: 0;max-width: 0;overflow: hidden;text-align: left;background-color: #f0f8ff;}#sk-container-id-1 div.sk-toggleable__content pre {margin: 0.2em;color: black;border-radius: 0.25em;background-color: #f0f8ff;}#sk-container-id-1 input.sk-toggleable__control:checked~div.sk-toggleable__content {max-height: 200px;max-width: 100%;overflow: auto;}#sk-container-id-1 input.sk-toggleable__control:checked~label.sk-toggleable__label-arrow:before {content: \"▾\";}#sk-container-id-1 div.sk-estimator input.sk-toggleable__control:checked~label.sk-toggleable__label {background-color: #d4ebff;}#sk-container-id-1 div.sk-label input.sk-toggleable__control:checked~label.sk-toggleable__label {background-color: #d4ebff;}#sk-container-id-1 input.sk-hidden--visually {border: 0;clip: rect(1px 1px 1px 1px);clip: rect(1px, 1px, 1px, 1px);height: 1px;margin: -1px;overflow: hidden;padding: 0;position: absolute;width: 1px;}#sk-container-id-1 div.sk-estimator {font-family: monospace;background-color: #f0f8ff;border: 1px dotted black;border-radius: 0.25em;box-sizing: border-box;margin-bottom: 0.5em;}#sk-container-id-1 div.sk-estimator:hover {background-color: #d4ebff;}#sk-container-id-1 div.sk-parallel-item::after {content: \"\";width: 100%;border-bottom: 1px solid gray;flex-grow: 1;}#sk-container-id-1 div.sk-label:hover label.sk-toggleable__label {background-color: #d4ebff;}#sk-container-id-1 div.sk-serial::before {content: \"\";position: absolute;border-left: 1px solid gray;box-sizing: border-box;top: 0;bottom: 0;left: 50%;z-index: 0;}#sk-container-id-1 div.sk-serial {display: flex;flex-direction: column;align-items: center;background-color: white;padding-right: 0.2em;padding-left: 0.2em;position: relative;}#sk-container-id-1 div.sk-item {position: relative;z-index: 1;}#sk-container-id-1 div.sk-parallel {display: flex;align-items: stretch;justify-content: center;background-color: white;position: relative;}#sk-container-id-1 div.sk-item::before, #sk-container-id-1 div.sk-parallel-item::before {content: \"\";position: absolute;border-left: 1px solid gray;box-sizing: border-box;top: 0;bottom: 0;left: 50%;z-index: -1;}#sk-container-id-1 div.sk-parallel-item {display: flex;flex-direction: column;z-index: 1;position: relative;background-color: white;}#sk-container-id-1 div.sk-parallel-item:first-child::after {align-self: flex-end;width: 50%;}#sk-container-id-1 div.sk-parallel-item:last-child::after {align-self: flex-start;width: 50%;}#sk-container-id-1 div.sk-parallel-item:only-child::after {width: 0;}#sk-container-id-1 div.sk-dashed-wrapped {border: 1px dashed gray;margin: 0 0.4em 0.5em 0.4em;box-sizing: border-box;padding-bottom: 0.4em;background-color: white;}#sk-container-id-1 div.sk-label label {font-family: monospace;font-weight: bold;display: inline-block;line-height: 1.2em;}#sk-container-id-1 div.sk-label-container {text-align: center;}#sk-container-id-1 div.sk-container {/* jupyter's `normalize.less` sets `[hidden] { display: none; }` but bootstrap.min.css set `[hidden] { display: none !important; }` so we also need the `!important` here to be able to override the default hidden behavior on the sphinx rendered scikit-learn.org. See: https://github.com/scikit-learn/scikit-learn/issues/21755 */display: inline-block !important;position: relative;}#sk-container-id-1 div.sk-text-repr-fallback {display: none;}</style><div id=\"sk-container-id-1\" class=\"sk-top-container\"><div class=\"sk-text-repr-fallback\"><pre>MyTransformer3(num_bins=75)</pre><b>In a Jupyter environment, please rerun this cell to show the HTML representation or trust the notebook. <br />On GitHub, the HTML representation is unable to render, please try loading this page with nbviewer.org.</b></div><div class=\"sk-container\" hidden><div class=\"sk-item\"><div class=\"sk-estimator sk-toggleable\"><input class=\"sk-toggleable__control sk-hidden--visually\" id=\"sk-estimator-id-1\" type=\"checkbox\" checked><label for=\"sk-estimator-id-1\" class=\"sk-toggleable__label sk-toggleable__label-arrow\">MyTransformer3</label><div class=\"sk-toggleable__content\"><pre>MyTransformer3(num_bins=75)</pre></div></div></div></div></div>"
      ],
      "text/plain": [
       "MyTransformer3(num_bins=75)"
      ]
     },
     "execution_count": 7,
     "metadata": {},
     "output_type": "execute_result"
    }
   ],
   "source": [
    "%%time\n",
    "# Create an instance of the transformer\n",
    "transformer = MyTransformer(num_bins=75)\n",
    "\n",
    "# Fit the transformer to the data\n",
    "transformer.fit(df_data)\n"
   ]
  },
  {
   "cell_type": "code",
   "execution_count": 8,
   "metadata": {},
   "outputs": [
    {
     "name": "stdout",
     "output_type": "stream",
     "text": [
      "CPU times: user 1.16 s, sys: 437 ms, total: 1.59 s\n",
      "Wall time: 1.59 s\n"
     ]
    }
   ],
   "source": [
    "\n",
    "%%time\n",
    "# Transform the data using the fitted transformer\n",
    "encoded_data2 = transformer.transform(df_data)\n"
   ]
  },
  {
   "cell_type": "code",
   "execution_count": 9,
   "metadata": {},
   "outputs": [
    {
     "name": "stdout",
     "output_type": "stream",
     "text": [
      "CPU times: user 188 ms, sys: 0 ns, total: 188 ms\n",
      "Wall time: 185 ms\n"
     ]
    },
    {
     "data": {
      "text/html": [
       "<style>#sk-container-id-2 {color: black;}#sk-container-id-2 pre{padding: 0;}#sk-container-id-2 div.sk-toggleable {background-color: white;}#sk-container-id-2 label.sk-toggleable__label {cursor: pointer;display: block;width: 100%;margin-bottom: 0;padding: 0.3em;box-sizing: border-box;text-align: center;}#sk-container-id-2 label.sk-toggleable__label-arrow:before {content: \"▸\";float: left;margin-right: 0.25em;color: #696969;}#sk-container-id-2 label.sk-toggleable__label-arrow:hover:before {color: black;}#sk-container-id-2 div.sk-estimator:hover label.sk-toggleable__label-arrow:before {color: black;}#sk-container-id-2 div.sk-toggleable__content {max-height: 0;max-width: 0;overflow: hidden;text-align: left;background-color: #f0f8ff;}#sk-container-id-2 div.sk-toggleable__content pre {margin: 0.2em;color: black;border-radius: 0.25em;background-color: #f0f8ff;}#sk-container-id-2 input.sk-toggleable__control:checked~div.sk-toggleable__content {max-height: 200px;max-width: 100%;overflow: auto;}#sk-container-id-2 input.sk-toggleable__control:checked~label.sk-toggleable__label-arrow:before {content: \"▾\";}#sk-container-id-2 div.sk-estimator input.sk-toggleable__control:checked~label.sk-toggleable__label {background-color: #d4ebff;}#sk-container-id-2 div.sk-label input.sk-toggleable__control:checked~label.sk-toggleable__label {background-color: #d4ebff;}#sk-container-id-2 input.sk-hidden--visually {border: 0;clip: rect(1px 1px 1px 1px);clip: rect(1px, 1px, 1px, 1px);height: 1px;margin: -1px;overflow: hidden;padding: 0;position: absolute;width: 1px;}#sk-container-id-2 div.sk-estimator {font-family: monospace;background-color: #f0f8ff;border: 1px dotted black;border-radius: 0.25em;box-sizing: border-box;margin-bottom: 0.5em;}#sk-container-id-2 div.sk-estimator:hover {background-color: #d4ebff;}#sk-container-id-2 div.sk-parallel-item::after {content: \"\";width: 100%;border-bottom: 1px solid gray;flex-grow: 1;}#sk-container-id-2 div.sk-label:hover label.sk-toggleable__label {background-color: #d4ebff;}#sk-container-id-2 div.sk-serial::before {content: \"\";position: absolute;border-left: 1px solid gray;box-sizing: border-box;top: 0;bottom: 0;left: 50%;z-index: 0;}#sk-container-id-2 div.sk-serial {display: flex;flex-direction: column;align-items: center;background-color: white;padding-right: 0.2em;padding-left: 0.2em;position: relative;}#sk-container-id-2 div.sk-item {position: relative;z-index: 1;}#sk-container-id-2 div.sk-parallel {display: flex;align-items: stretch;justify-content: center;background-color: white;position: relative;}#sk-container-id-2 div.sk-item::before, #sk-container-id-2 div.sk-parallel-item::before {content: \"\";position: absolute;border-left: 1px solid gray;box-sizing: border-box;top: 0;bottom: 0;left: 50%;z-index: -1;}#sk-container-id-2 div.sk-parallel-item {display: flex;flex-direction: column;z-index: 1;position: relative;background-color: white;}#sk-container-id-2 div.sk-parallel-item:first-child::after {align-self: flex-end;width: 50%;}#sk-container-id-2 div.sk-parallel-item:last-child::after {align-self: flex-start;width: 50%;}#sk-container-id-2 div.sk-parallel-item:only-child::after {width: 0;}#sk-container-id-2 div.sk-dashed-wrapped {border: 1px dashed gray;margin: 0 0.4em 0.5em 0.4em;box-sizing: border-box;padding-bottom: 0.4em;background-color: white;}#sk-container-id-2 div.sk-label label {font-family: monospace;font-weight: bold;display: inline-block;line-height: 1.2em;}#sk-container-id-2 div.sk-label-container {text-align: center;}#sk-container-id-2 div.sk-container {/* jupyter's `normalize.less` sets `[hidden] { display: none; }` but bootstrap.min.css set `[hidden] { display: none !important; }` so we also need the `!important` here to be able to override the default hidden behavior on the sphinx rendered scikit-learn.org. See: https://github.com/scikit-learn/scikit-learn/issues/21755 */display: inline-block !important;position: relative;}#sk-container-id-2 div.sk-text-repr-fallback {display: none;}</style><div id=\"sk-container-id-2\" class=\"sk-top-container\"><div class=\"sk-text-repr-fallback\"><pre>MyTransformer3(num_bins=75)</pre><b>In a Jupyter environment, please rerun this cell to show the HTML representation or trust the notebook. <br />On GitHub, the HTML representation is unable to render, please try loading this page with nbviewer.org.</b></div><div class=\"sk-container\" hidden><div class=\"sk-item\"><div class=\"sk-estimator sk-toggleable\"><input class=\"sk-toggleable__control sk-hidden--visually\" id=\"sk-estimator-id-2\" type=\"checkbox\" checked><label for=\"sk-estimator-id-2\" class=\"sk-toggleable__label sk-toggleable__label-arrow\">MyTransformer3</label><div class=\"sk-toggleable__content\"><pre>MyTransformer3(num_bins=75)</pre></div></div></div></div></div>"
      ],
      "text/plain": [
       "MyTransformer3(num_bins=75)"
      ]
     },
     "execution_count": 9,
     "metadata": {},
     "output_type": "execute_result"
    }
   ],
   "source": [
    "%%time\n",
    "# Create an instance of the transformer\n",
    "transformer2 = MyTransformer(num_bins=75)\n",
    "\n",
    "# Fit the transformer to the data\n",
    "transformer2.fit(df_data)\n"
   ]
  },
  {
   "cell_type": "code",
   "execution_count": 10,
   "metadata": {},
   "outputs": [
    {
     "name": "stdout",
     "output_type": "stream",
     "text": [
      "CPU times: user 823 ms, sys: 345 ms, total: 1.17 s\n",
      "Wall time: 1.16 s\n"
     ]
    }
   ],
   "source": [
    "%%time\n",
    "# Transform the data using the fitted transformer\n",
    "encoded_data3 = transformer2.transform(df_data)"
   ]
  },
  {
   "cell_type": "code",
   "execution_count": 11,
   "metadata": {},
   "outputs": [
    {
     "name": "stdout",
     "output_type": "stream",
     "text": [
      "encoded_data1 == encoded_data3: True\n",
      "CPU times: user 811 ms, sys: 120 ms, total: 931 ms\n",
      "Wall time: 928 ms\n"
     ]
    }
   ],
   "source": [
    "%%time\n",
    "# print(f\"sklearn Encoded data: {encoded_data2.shape}\\n{encoded_data2}\")\n",
    "\n",
    "print(f\"encoded_data1 == encoded_data3: {np.allclose(encoded_data1, encoded_data3)}\")"
   ]
  },
  {
   "cell_type": "code",
   "execution_count": 12,
   "metadata": {},
   "outputs": [
    {
     "data": {
      "text/plain": [
       "(dtype('float64'), dtype('float64'), dtype('float64'))"
      ]
     },
     "execution_count": 12,
     "metadata": {},
     "output_type": "execute_result"
    }
   ],
   "source": [
    "encoded_data1.dtype, encoded_data2.dtype, encoded_data3.dtype"
   ]
  },
  {
   "cell_type": "code",
   "execution_count": null,
   "metadata": {},
   "outputs": [],
   "source": []
  }
 ],
 "metadata": {
  "kernelspec": {
   "display_name": "Python 3",
   "language": "python",
   "name": "python3"
  },
  "language_info": {
   "codemirror_mode": {
    "name": "ipython",
    "version": 3
   },
   "file_extension": ".py",
   "mimetype": "text/x-python",
   "name": "python",
   "nbconvert_exporter": "python",
   "pygments_lexer": "ipython3",
   "version": "3.10.13"
  }
 },
 "nbformat": 4,
 "nbformat_minor": 2
}
