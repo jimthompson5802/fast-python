{
 "cells": [
  {
   "cell_type": "code",
   "execution_count": 1,
   "metadata": {},
   "outputs": [],
   "source": [
    "import sys\n",
    "\n",
    "import numpy as np\n",
    "import pandas as pd\n",
    "\n",
    "from sklearn.datasets import make_regression\n"
   ]
  },
  {
   "cell_type": "code",
   "execution_count": 2,
   "metadata": {},
   "outputs": [
    {
     "name": "stdout",
     "output_type": "stream",
     "text": [
      "   Feature_1  Feature_2  Feature_3  Feature_4  Feature_5  Feature_6  \\\n",
      "0   0.308937  -1.358117   1.799673   0.370344  -1.089044  -0.611431   \n",
      "1  -0.714677  -0.911399   0.704543   0.072666  -0.146416  -1.417644   \n",
      "2  -2.414273   0.270416  -1.890207  -0.984467  -0.509132  -0.236473   \n",
      "3   1.537630  -0.936710   0.922793  -0.003897  -1.335670  -0.665940   \n",
      "4  -0.484542   1.470649   1.364323  -0.467492   1.580360  -0.009018   \n",
      "\n",
      "   Feature_7  Feature_8  Feature_9  Feature_10  ...  Feature_91  Feature_92  \\\n",
      "0  -0.335119   1.147323  -1.054796    0.139363  ...   -0.450311   -0.015725   \n",
      "1  -0.267344   0.963182   1.159643   -0.782204  ...    1.002065   -1.594992   \n",
      "2   0.924821  -1.554528   0.220635   -1.079696  ...   -0.240047    1.455053   \n",
      "3   0.716759  -0.155484   1.408668    2.234313  ...    0.171679   -2.075227   \n",
      "4   0.412203   0.587010  -0.461107   -0.079273  ...   -0.292875   -1.347707   \n",
      "\n",
      "   Feature_93  Feature_94  Feature_95  Feature_96  Feature_97  Feature_98  \\\n",
      "0   -0.080910   -0.809523   -0.615246    0.251029   -0.161305   -0.552200   \n",
      "1    1.299482    0.285062    0.109400    0.049349    1.239483   -0.770401   \n",
      "2   -0.853952    0.227808   -1.869735    0.606788   -0.503986    0.434974   \n",
      "3    0.357591   -0.653531   -0.516247   -1.373571    0.145010    1.631103   \n",
      "4   -0.473457   -0.345626   -0.040660   -1.085091    0.174213   -0.919603   \n",
      "\n",
      "   Feature_99  Feature_100  \n",
      "0   -1.508041     0.149237  \n",
      "1    0.497540     0.836287  \n",
      "2    0.967623     1.107183  \n",
      "3   -1.623318     1.773253  \n",
      "4   -0.324808     0.019620  \n",
      "\n",
      "[5 rows x 100 columns]\n"
     ]
    }
   ],
   "source": [
    "NUM_FEATURES = 100\n",
    "NUM_BINS = 45\n",
    "NUM_SAMPLES = 1_000\n",
    "# Generate synthetic regression data\n",
    "X, y = make_regression(n_samples=NUM_SAMPLES, n_features=NUM_FEATURES, noise=0.1, random_state=1)\n",
    "\n",
    "# Convert to pandas DataFrame\n",
    "df = pd.DataFrame(data=X, columns=[f'Feature_{i}' for i in range(1, NUM_FEATURES+1)])\n",
    "df['Target'] = y\n",
    "\n",
    "df_data = df.drop('Target', axis=1).astype('float32')\n",
    "\n",
    "print(df_data.head())"
   ]
  },
  {
   "cell_type": "code",
   "execution_count": 3,
   "metadata": {},
   "outputs": [
    {
     "data": {
      "text/plain": [
       "Feature_1      float32\n",
       "Feature_2      float32\n",
       "Feature_3      float32\n",
       "Feature_4      float32\n",
       "Feature_5      float32\n",
       "                ...   \n",
       "Feature_96     float32\n",
       "Feature_97     float32\n",
       "Feature_98     float32\n",
       "Feature_99     float32\n",
       "Feature_100    float32\n",
       "Length: 100, dtype: object"
      ]
     },
     "execution_count": 3,
     "metadata": {},
     "output_type": "execute_result"
    }
   ],
   "source": [
    "df_data.dtypes"
   ]
  },
  {
   "cell_type": "code",
   "execution_count": 4,
   "metadata": {},
   "outputs": [],
   "source": [
    "# Define the number of bins\n",
    "num_bins = NUM_BINS\n",
    "\n",
    "# Initialize an empty list to store the bin boundaries for each column\n",
    "bin_boundaries = {}\n",
    "quantiles = np.linspace(0, 1, num_bins + 1)\n",
    "\n",
    "# Loop through each column and compute the bin boundaries\n",
    "for fn in df_data.columns:  # Iterate over columns\n",
    "    column_data = df_data[fn].astype(np.float32)  # Extract the current column\n",
    "    boundaries = column_data.quantile(quantiles) # Compute the bin boundaries for the current column\n",
    "    bin_boundaries[fn] = boundaries.astype(np.float32)  # Add the bin boundaries to     bin_boundaries.append(boundaries)  # Add the bin boundaries to the list\n",
    "\n",
    "# print(f\"\\nBin boundaries:\")\n",
    "# # Print the bin boundaries for each column\n",
    "# for i, boundaries in bin_boundaries.items():\n",
    "#     print(f\"Column {i} bin boundaries:\\n{boundaries}\")\n"
   ]
  },
  {
   "cell_type": "code",
   "execution_count": 5,
   "metadata": {},
   "outputs": [
    {
     "name": "stdout",
     "output_type": "stream",
     "text": [
      "encoded_data1 shape: (1000, 100, 45)\n",
      "CPU times: user 66.6 ms, sys: 15.8 ms, total: 82.4 ms\n",
      "Wall time: 80.6 ms\n"
     ]
    }
   ],
   "source": [
    "%%time\n",
    "# Loop through each column and perform piecewise linear encoding\n",
    "\n",
    "encode_data_list = []\n",
    "idxs_list = []\n",
    "encoded_value_list = []\n",
    "for fn in df_data.columns:  # Iterate over columns\n",
    "    column_data = df_data[fn].values.astype(np.float32)  # Extract the current column\n",
    "    column_bin_boundaries = np.array(bin_boundaries[fn])  # Get the bin boundaries for the current column\n",
    "\n",
    "    # Initialize a matrix of all ones to store the encoded data\n",
    "    encoded_data = np.ones([column_data.shape[0], num_bins])\n",
    "    # print(f\"encoded_data0:\\n{encoded_data}\")\n",
    "    \n",
    "    # Use np.digitize to find the bin indices for each data point\n",
    "    bin_indices = np.digitize(column_data, column_bin_boundaries) - 1\n",
    "    # print(f\"column_bin_boundaries:\\n{column_bin_boundaries}\")\n",
    "    # print(f\"zip(columndata, bin_indices):\\n{list(zip(column_data, bin_indices))}\")\n",
    "\n",
    "    # compute numerator, adjust for edge case at max value\n",
    "    # find the bin min for each data point\n",
    "    bin_min = column_bin_boundaries[bin_indices]\n",
    "\n",
    "    # for maximum data point, set bin min to second to last bin boundary\n",
    "    bin_min[bin_indices == num_bins] = column_bin_boundaries[-2]\n",
    "\n",
    "    # compute the bin numerator for each data point\n",
    "    bin_numerator = column_data - bin_min\n",
    "    # print(f\"\\nbin_numerator:\\n{bin_numerator}\")\n",
    "    \n",
    "    # Calculate the bin widths based on the bin boundaries\n",
    "    bin_widths = np.diff(column_bin_boundaries)\n",
    "\n",
    "    # adjust for edge case of last bin\n",
    "    idxs = bin_indices\n",
    "    idxs[idxs == num_bins] = num_bins - 1\n",
    "    # for maximum data point, set bin width to last bin boundary\n",
    "\n",
    "    bin_denominator = bin_widths[idxs]\n",
    "    # print(f\"\\nbin_widths:\\n{bin_widths}\")\n",
    "   \n",
    "    # Calculate the encoded value of each data point within the selected bin\n",
    "    encoded_values = bin_numerator / bin_denominator\n",
    "   \n",
    "    # Create a mask to store the encoded value in the corresponding column of encoded_data\n",
    "    mask = np.zeros_like(encoded_data, dtype=bool)\n",
    "    mask[np.arange(encoded_data.shape[0]), bin_indices] = True\n",
    "\n",
    "    # Store the encoded value in the corresponding column of encoded_data\n",
    "    encoded_data[mask] = encoded_values\n",
    "\n",
    "    # Create mask to set all values after the column-specific bin index to 0\n",
    "    mask = np.tile(np.arange(encoded_data.shape[1]), (encoded_data.shape[0], 1))\n",
    "    mask = mask > bin_indices.reshape(-1, 1)\n",
    "    encoded_data[mask] = 0\n",
    "\n",
    "    encode_data_list.append(encoded_data)\n",
    "    idxs_list.append(bin_indices)\n",
    "    encoded_value_list.append(encoded_values)\n",
    "\n",
    "# encoded_data now contains the piecewise linear encoding for each column\n",
    "encoded_data1 = np.array(encode_data_list).astype(np.float32).transpose(1, 0, 2)\n",
    "idxs = np.vstack(idxs_list).T\n",
    "# print(f\"Encoded data1: {encoded_data.shape}\\n{encoded_data1}\")\n",
    "# print(f\"idxs: {idxs.shape}\\n{idxs}\")\n",
    "print(f\"encoded_data1 shape: {encoded_data1.shape}\")\n",
    "\n"
   ]
  },
  {
   "cell_type": "markdown",
   "metadata": {},
   "source": [
    "import os\n",
    "os.environ[\"NUMBA_DEBUG\"] = \"1\""
   ]
  },
  {
   "cell_type": "code",
   "execution_count": 6,
   "metadata": {},
   "outputs": [
    {
     "name": "stdout",
     "output_type": "stream",
     "text": [
      "CPU times: user 112 ms, sys: 4.03 ms, total: 116 ms\n",
      "Wall time: 116 ms\n"
     ]
    }
   ],
   "source": [
    "%%time\n",
    "from ple_transformer import MyTransformerNP as MyTransformer"
   ]
  },
  {
   "cell_type": "code",
   "execution_count": 7,
   "metadata": {},
   "outputs": [
    {
     "name": "stdout",
     "output_type": "stream",
     "text": [
      "CPU times: user 75.6 ms, sys: 0 ns, total: 75.6 ms\n",
      "Wall time: 74.1 ms\n"
     ]
    },
    {
     "data": {
      "text/html": [
       "<style>#sk-container-id-1 {color: black;}#sk-container-id-1 pre{padding: 0;}#sk-container-id-1 div.sk-toggleable {background-color: white;}#sk-container-id-1 label.sk-toggleable__label {cursor: pointer;display: block;width: 100%;margin-bottom: 0;padding: 0.3em;box-sizing: border-box;text-align: center;}#sk-container-id-1 label.sk-toggleable__label-arrow:before {content: \"▸\";float: left;margin-right: 0.25em;color: #696969;}#sk-container-id-1 label.sk-toggleable__label-arrow:hover:before {color: black;}#sk-container-id-1 div.sk-estimator:hover label.sk-toggleable__label-arrow:before {color: black;}#sk-container-id-1 div.sk-toggleable__content {max-height: 0;max-width: 0;overflow: hidden;text-align: left;background-color: #f0f8ff;}#sk-container-id-1 div.sk-toggleable__content pre {margin: 0.2em;color: black;border-radius: 0.25em;background-color: #f0f8ff;}#sk-container-id-1 input.sk-toggleable__control:checked~div.sk-toggleable__content {max-height: 200px;max-width: 100%;overflow: auto;}#sk-container-id-1 input.sk-toggleable__control:checked~label.sk-toggleable__label-arrow:before {content: \"▾\";}#sk-container-id-1 div.sk-estimator input.sk-toggleable__control:checked~label.sk-toggleable__label {background-color: #d4ebff;}#sk-container-id-1 div.sk-label input.sk-toggleable__control:checked~label.sk-toggleable__label {background-color: #d4ebff;}#sk-container-id-1 input.sk-hidden--visually {border: 0;clip: rect(1px 1px 1px 1px);clip: rect(1px, 1px, 1px, 1px);height: 1px;margin: -1px;overflow: hidden;padding: 0;position: absolute;width: 1px;}#sk-container-id-1 div.sk-estimator {font-family: monospace;background-color: #f0f8ff;border: 1px dotted black;border-radius: 0.25em;box-sizing: border-box;margin-bottom: 0.5em;}#sk-container-id-1 div.sk-estimator:hover {background-color: #d4ebff;}#sk-container-id-1 div.sk-parallel-item::after {content: \"\";width: 100%;border-bottom: 1px solid gray;flex-grow: 1;}#sk-container-id-1 div.sk-label:hover label.sk-toggleable__label {background-color: #d4ebff;}#sk-container-id-1 div.sk-serial::before {content: \"\";position: absolute;border-left: 1px solid gray;box-sizing: border-box;top: 0;bottom: 0;left: 50%;z-index: 0;}#sk-container-id-1 div.sk-serial {display: flex;flex-direction: column;align-items: center;background-color: white;padding-right: 0.2em;padding-left: 0.2em;position: relative;}#sk-container-id-1 div.sk-item {position: relative;z-index: 1;}#sk-container-id-1 div.sk-parallel {display: flex;align-items: stretch;justify-content: center;background-color: white;position: relative;}#sk-container-id-1 div.sk-item::before, #sk-container-id-1 div.sk-parallel-item::before {content: \"\";position: absolute;border-left: 1px solid gray;box-sizing: border-box;top: 0;bottom: 0;left: 50%;z-index: -1;}#sk-container-id-1 div.sk-parallel-item {display: flex;flex-direction: column;z-index: 1;position: relative;background-color: white;}#sk-container-id-1 div.sk-parallel-item:first-child::after {align-self: flex-end;width: 50%;}#sk-container-id-1 div.sk-parallel-item:last-child::after {align-self: flex-start;width: 50%;}#sk-container-id-1 div.sk-parallel-item:only-child::after {width: 0;}#sk-container-id-1 div.sk-dashed-wrapped {border: 1px dashed gray;margin: 0 0.4em 0.5em 0.4em;box-sizing: border-box;padding-bottom: 0.4em;background-color: white;}#sk-container-id-1 div.sk-label label {font-family: monospace;font-weight: bold;display: inline-block;line-height: 1.2em;}#sk-container-id-1 div.sk-label-container {text-align: center;}#sk-container-id-1 div.sk-container {/* jupyter's `normalize.less` sets `[hidden] { display: none; }` but bootstrap.min.css set `[hidden] { display: none !important; }` so we also need the `!important` here to be able to override the default hidden behavior on the sphinx rendered scikit-learn.org. See: https://github.com/scikit-learn/scikit-learn/issues/21755 */display: inline-block !important;position: relative;}#sk-container-id-1 div.sk-text-repr-fallback {display: none;}</style><div id=\"sk-container-id-1\" class=\"sk-top-container\"><div class=\"sk-text-repr-fallback\"><pre>MyTransformerNP(num_bins=45)</pre><b>In a Jupyter environment, please rerun this cell to show the HTML representation or trust the notebook. <br />On GitHub, the HTML representation is unable to render, please try loading this page with nbviewer.org.</b></div><div class=\"sk-container\" hidden><div class=\"sk-item\"><div class=\"sk-estimator sk-toggleable\"><input class=\"sk-toggleable__control sk-hidden--visually\" id=\"sk-estimator-id-1\" type=\"checkbox\" checked><label for=\"sk-estimator-id-1\" class=\"sk-toggleable__label sk-toggleable__label-arrow\">MyTransformerNP</label><div class=\"sk-toggleable__content\"><pre>MyTransformerNP(num_bins=45)</pre></div></div></div></div></div>"
      ],
      "text/plain": [
       "MyTransformerNP(num_bins=45)"
      ]
     },
     "execution_count": 7,
     "metadata": {},
     "output_type": "execute_result"
    }
   ],
   "source": [
    "%%time\n",
    "# Create an instance of the transformer\n",
    "transformer = MyTransformer(num_bins=NUM_BINS)\n",
    "\n",
    "# Fit the transformer to the data\n",
    "transformer.fit(df_data)\n"
   ]
  },
  {
   "cell_type": "code",
   "execution_count": 8,
   "metadata": {},
   "outputs": [
    {
     "name": "stdout",
     "output_type": "stream",
     "text": [
      "CPU times: user 52.5 ms, sys: 10.8 ms, total: 63.3 ms\n",
      "Wall time: 62.1 ms\n"
     ]
    }
   ],
   "source": [
    "\n",
    "%%time\n",
    "# Transform the data using the fitted transformer\n",
    "encoded_data2 = transformer.transform(df_data)\n"
   ]
  },
  {
   "cell_type": "code",
   "execution_count": 9,
   "metadata": {},
   "outputs": [
    {
     "data": {
      "text/plain": [
       "((1000, 100, 45), (1000, 100, 45))"
      ]
     },
     "execution_count": 9,
     "metadata": {},
     "output_type": "execute_result"
    }
   ],
   "source": [
    "encoded_data1.shape, encoded_data2.shape,"
   ]
  },
  {
   "cell_type": "code",
   "execution_count": 10,
   "metadata": {},
   "outputs": [
    {
     "data": {
      "text/plain": [
       "(dtype('float32'), dtype('float32'))"
      ]
     },
     "execution_count": 10,
     "metadata": {},
     "output_type": "execute_result"
    }
   ],
   "source": [
    "encoded_data1.dtype, encoded_data2.dtype"
   ]
  },
  {
   "cell_type": "code",
   "execution_count": 11,
   "metadata": {},
   "outputs": [
    {
     "name": "stdout",
     "output_type": "stream",
     "text": [
      "ERROR: Encoded data does not match, max diff =  1.475215e-06\n"
     ]
    },
    {
     "ename": "AssertionError",
     "evalue": "Encoded data does not match",
     "output_type": "error",
     "traceback": [
      "\u001b[0;31m---------------------------------------------------------------------------\u001b[0m",
      "\u001b[0;31mAssertionError\u001b[0m                            Traceback (most recent call last)",
      "File \u001b[0;32m<timed exec>:8\u001b[0m\n",
      "\u001b[0;31mAssertionError\u001b[0m: Encoded data does not match"
     ]
    }
   ],
   "source": [
    "%%time\n",
    "# print(f\"sklearn Encoded data: {encoded_data2.shape}\\n{encoded_data2}\")\n",
    "\n",
    "if not np.all(np.isclose(encoded_data1, encoded_data2)):\n",
    "    print(\"ERROR: Encoded data does not match, max diff = \", np.max(np.abs(encoded_data1 - encoded_data2)))\n",
    "else:\n",
    "    print(\"SUCCESS: Encoded data matches!\")\n",
    "\n",
    "assert np.all(np.isclose(encoded_data1, encoded_data2)), f\"Encoded data does not match\"\n",
    "    "
   ]
  },
  {
   "cell_type": "code",
   "execution_count": null,
   "metadata": {},
   "outputs": [],
   "source": []
  }
 ],
 "metadata": {
  "kernelspec": {
   "display_name": "Python 3",
   "language": "python",
   "name": "python3"
  },
  "language_info": {
   "codemirror_mode": {
    "name": "ipython",
    "version": 3
   },
   "file_extension": ".py",
   "mimetype": "text/x-python",
   "name": "python",
   "nbconvert_exporter": "python",
   "pygments_lexer": "ipython3",
   "version": "3.10.13"
  }
 },
 "nbformat": 4,
 "nbformat_minor": 2
}
