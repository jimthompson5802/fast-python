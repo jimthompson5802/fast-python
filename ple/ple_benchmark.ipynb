{
 "cells": [
  {
   "cell_type": "code",
   "execution_count": 1,
   "metadata": {},
   "outputs": [],
   "source": [
    "import sys\n",
    "\n",
    "import numpy as np\n",
    "import pandas as pd\n",
    "\n",
    "from sklearn.datasets import make_regression\n"
   ]
  },
  {
   "cell_type": "code",
   "execution_count": 2,
   "metadata": {},
   "outputs": [
    {
     "name": "stdout",
     "output_type": "stream",
     "text": [
      "   Feature_1  Feature_2  Feature_3  Feature_4  Feature_5  Feature_6  \\\n",
      "0   2.669134   0.935506   0.119068   0.397455  -0.797867   1.063694   \n",
      "1  -0.280565  -0.737132  -0.073916   0.266521   0.950513  -0.318143   \n",
      "2  -1.545541  -0.813349   2.552004  -1.885060   1.019922  -0.546040   \n",
      "3  -0.176935   1.082176   1.856537  -0.444410   0.462096   0.063075   \n",
      "4   0.730443  -2.839458   0.602569  -0.249875  -1.140106  -0.024486   \n",
      "\n",
      "   Feature_7  Feature_8  Feature_9  Feature_10  ...  Feature_91  Feature_92  \\\n",
      "0   0.223034  -0.394869   0.549681    0.203443  ...   -0.977882   -0.327025   \n",
      "1   2.210178  -0.486361   1.207417   -0.132859  ...   -1.732534    0.704593   \n",
      "2  -0.089909  -1.040497   0.124978    0.926639  ...   -0.860770    1.445409   \n",
      "3   1.173178  -0.860313   0.186985   -0.392830  ...   -0.649400   -1.150807   \n",
      "4   0.068322   0.137987   1.836735   -0.455747  ...    0.026673    1.308732   \n",
      "\n",
      "   Feature_93  Feature_94  Feature_95  Feature_96  Feature_97  Feature_98  \\\n",
      "0   -0.995281   -0.822607   -0.600539   -0.695782   -0.028728    0.637043   \n",
      "1   -0.424470    0.468379    0.981020   -2.115872   -1.240888    2.923895   \n",
      "2    0.542343    1.116577    0.776517    0.162826    0.842292   -0.158716   \n",
      "3   -0.082546   -0.428439    0.642318   -0.566727    0.295041   -0.183907   \n",
      "4    1.726622    0.134958    1.473489    1.516282   -0.876737    1.525617   \n",
      "\n",
      "   Feature_99  Feature_100  \n",
      "0    0.023678     0.230159  \n",
      "1   -1.832997    -0.175937  \n",
      "2    2.049664    -0.178237  \n",
      "3   -0.469996     0.480571  \n",
      "4    0.207874     1.301661  \n",
      "\n",
      "[5 rows x 100 columns]\n"
     ]
    }
   ],
   "source": [
    "NUM_FEATURES = 100\n",
    "NUM_BINS = 45\n",
    "NUM_SAMPLES = 10_000\n",
    "# Generate synthetic regression data\n",
    "X, y = make_regression(n_samples=NUM_SAMPLES, n_features=NUM_FEATURES, noise=0.1, random_state=1)\n",
    "\n",
    "# Convert to pandas DataFrame\n",
    "df = pd.DataFrame(data=X, columns=[f'Feature_{i}' for i in range(1, NUM_FEATURES+1)])\n",
    "df['Target'] = y\n",
    "\n",
    "df_data = df.drop('Target', axis=1).astype('float32')\n",
    "\n",
    "print(df_data.head())"
   ]
  },
  {
   "cell_type": "code",
   "execution_count": 3,
   "metadata": {},
   "outputs": [
    {
     "data": {
      "text/plain": [
       "Feature_1      float32\n",
       "Feature_2      float32\n",
       "Feature_3      float32\n",
       "Feature_4      float32\n",
       "Feature_5      float32\n",
       "                ...   \n",
       "Feature_96     float32\n",
       "Feature_97     float32\n",
       "Feature_98     float32\n",
       "Feature_99     float32\n",
       "Feature_100    float32\n",
       "Length: 100, dtype: object"
      ]
     },
     "execution_count": 3,
     "metadata": {},
     "output_type": "execute_result"
    }
   ],
   "source": [
    "df_data.dtypes"
   ]
  },
  {
   "cell_type": "markdown",
   "metadata": {},
   "source": [
    "import os\n",
    "os.environ[\"NUMBA_DEBUG\"] = \"1\""
   ]
  },
  {
   "cell_type": "code",
   "execution_count": 4,
   "metadata": {},
   "outputs": [
    {
     "name": "stdout",
     "output_type": "stream",
     "text": [
      "CPU times: user 154 ms, sys: 0 ns, total: 154 ms\n",
      "Wall time: 157 ms\n"
     ]
    }
   ],
   "source": [
    "%%time\n",
    "from ple_transformer import MyTransformerNP, MyTransformerNumba, MyTransformerCython"
   ]
  },
  {
   "cell_type": "code",
   "execution_count": 5,
   "metadata": {},
   "outputs": [
    {
     "name": "stdout",
     "output_type": "stream",
     "text": [
      "CPU times: user 7 µs, sys: 0 ns, total: 7 µs\n",
      "Wall time: 9.78 µs\n"
     ]
    }
   ],
   "source": [
    "%%time\n",
    "import time\n",
    "import pandas as pd\n",
    "import gc\n",
    "\n",
    "# helper function to test the different implementations of matrix multiplication\n",
    "def test_transformer(transformer_to_test, identifier, df):\n",
    "    gc.disable()\n",
    "    start_time = time.time()\n",
    "    transformer_to_test.transform(df)\n",
    "    end_time = time.time()\n",
    "    duration = end_time - start_time\n",
    "    gc.enable()\n",
    "\n",
    "    return {\"transformer\": identifier, \"duration\": duration}\n",
    "\n",
    "test_results = []"
   ]
  },
  {
   "cell_type": "code",
   "execution_count": 6,
   "metadata": {},
   "outputs": [],
   "source": [
    "# setup the transformers for testing\n",
    "transformer_np = MyTransformerNP(num_bins=NUM_BINS)\n",
    "transformer_np.fit(df_data)\n",
    "transformer_numba = MyTransformerNumba(num_bins=NUM_BINS)\n",
    "transformer_numba.fit(df_data)\n",
    "transformer_cython = MyTransformerCython(num_bins=NUM_BINS)\n",
    "transformer_cython.fit(df_data)\n",
    "\n",
    "# setup test scenarios\n",
    "test_scenarios = [\n",
    "    (\"numpy\", transformer_np),\n",
    "    (\"numba\", transformer_numba),\n",
    "    (\"cython\", transformer_cython)\n",
    "]"
   ]
  },
  {
   "cell_type": "code",
   "execution_count": 7,
   "metadata": {},
   "outputs": [
    {
     "name": "stdout",
     "output_type": "stream",
     "text": [
      "CPU times: user 1min 7s, sys: 28.6 s, total: 1min 35s\n",
      "Wall time: 1min 35s\n"
     ]
    }
   ],
   "source": [
    "%%time\n",
    "# run test scenarios\n",
    "for _ in range(100):\n",
    "    for scenario in test_scenarios:\n",
    "        test_results.append(test_transformer(scenario[1], scenario[0], df_data))"
   ]
  },
  {
   "cell_type": "code",
   "execution_count": 8,
   "metadata": {},
   "outputs": [
    {
     "data": {
      "text/html": [
       "<div>\n",
       "<style scoped>\n",
       "    .dataframe tbody tr th:only-of-type {\n",
       "        vertical-align: middle;\n",
       "    }\n",
       "\n",
       "    .dataframe tbody tr th {\n",
       "        vertical-align: top;\n",
       "    }\n",
       "\n",
       "    .dataframe thead th {\n",
       "        text-align: right;\n",
       "    }\n",
       "</style>\n",
       "<table border=\"1\" class=\"dataframe\">\n",
       "  <thead>\n",
       "    <tr style=\"text-align: right;\">\n",
       "      <th></th>\n",
       "      <th></th>\n",
       "      <th>0</th>\n",
       "      <th>1</th>\n",
       "      <th>2</th>\n",
       "    </tr>\n",
       "  </thead>\n",
       "  <tbody>\n",
       "    <tr>\n",
       "      <th>transformer</th>\n",
       "      <th></th>\n",
       "      <td>cython</td>\n",
       "      <td>numba</td>\n",
       "      <td>numpy</td>\n",
       "    </tr>\n",
       "    <tr>\n",
       "      <th rowspan=\"11\" valign=\"top\">duration</th>\n",
       "      <th>count</th>\n",
       "      <td>100.0</td>\n",
       "      <td>100.0</td>\n",
       "      <td>100.0</td>\n",
       "    </tr>\n",
       "    <tr>\n",
       "      <th>mean</th>\n",
       "      <td>0.169361</td>\n",
       "      <td>0.351953</td>\n",
       "      <td>0.434948</td>\n",
       "    </tr>\n",
       "    <tr>\n",
       "      <th>std</th>\n",
       "      <td>0.004136</td>\n",
       "      <td>0.261586</td>\n",
       "      <td>0.151147</td>\n",
       "    </tr>\n",
       "    <tr>\n",
       "      <th>min</th>\n",
       "      <td>0.161673</td>\n",
       "      <td>0.316282</td>\n",
       "      <td>0.404994</td>\n",
       "    </tr>\n",
       "    <tr>\n",
       "      <th>25%</th>\n",
       "      <td>0.167056</td>\n",
       "      <td>0.322256</td>\n",
       "      <td>0.412994</td>\n",
       "    </tr>\n",
       "    <tr>\n",
       "      <th>50%</th>\n",
       "      <td>0.168087</td>\n",
       "      <td>0.3236</td>\n",
       "      <td>0.415368</td>\n",
       "    </tr>\n",
       "    <tr>\n",
       "      <th>75%</th>\n",
       "      <td>0.17059</td>\n",
       "      <td>0.32789</td>\n",
       "      <td>0.421428</td>\n",
       "    </tr>\n",
       "    <tr>\n",
       "      <th>90%</th>\n",
       "      <td>0.174771</td>\n",
       "      <td>0.3334</td>\n",
       "      <td>0.433045</td>\n",
       "    </tr>\n",
       "    <tr>\n",
       "      <th>95%</th>\n",
       "      <td>0.178389</td>\n",
       "      <td>0.338479</td>\n",
       "      <td>0.443563</td>\n",
       "    </tr>\n",
       "    <tr>\n",
       "      <th>99%</th>\n",
       "      <td>0.184474</td>\n",
       "      <td>0.392164</td>\n",
       "      <td>0.484243</td>\n",
       "    </tr>\n",
       "    <tr>\n",
       "      <th>max</th>\n",
       "      <td>0.187602</td>\n",
       "      <td>2.940553</td>\n",
       "      <td>1.926819</td>\n",
       "    </tr>\n",
       "  </tbody>\n",
       "</table>\n",
       "</div>"
      ],
      "text/plain": [
       "                          0         1         2\n",
       "transformer          cython     numba     numpy\n",
       "duration    count     100.0     100.0     100.0\n",
       "            mean   0.169361  0.351953  0.434948\n",
       "            std    0.004136  0.261586  0.151147\n",
       "            min    0.161673  0.316282  0.404994\n",
       "            25%    0.167056  0.322256  0.412994\n",
       "            50%    0.168087    0.3236  0.415368\n",
       "            75%     0.17059   0.32789  0.421428\n",
       "            90%    0.174771    0.3334  0.433045\n",
       "            95%    0.178389  0.338479  0.443563\n",
       "            99%    0.184474  0.392164  0.484243\n",
       "            max    0.187602  2.940553  1.926819"
      ]
     },
     "execution_count": 8,
     "metadata": {},
     "output_type": "execute_result"
    }
   ],
   "source": [
    "df_results = pd.DataFrame(test_results)\n",
    "\n",
    "df_results = df_results.groupby('transformer').describe(percentiles=[0.25, 0.5, 0.75, 0.9, 0.95, 0.99])\n",
    "df_results.reset_index(inplace=True)\n",
    "df_results.rename(columns={'index': 'transformer'}, inplace=True)\n",
    "df_results.T\n",
    "\n"
   ]
  },
  {
   "cell_type": "code",
   "execution_count": 9,
   "metadata": {},
   "outputs": [
    {
     "data": {
      "text/html": [
       "<div>\n",
       "<style scoped>\n",
       "    .dataframe tbody tr th:only-of-type {\n",
       "        vertical-align: middle;\n",
       "    }\n",
       "\n",
       "    .dataframe tbody tr th {\n",
       "        vertical-align: top;\n",
       "    }\n",
       "\n",
       "    .dataframe thead tr th {\n",
       "        text-align: left;\n",
       "    }\n",
       "</style>\n",
       "<table border=\"1\" class=\"dataframe\">\n",
       "  <thead>\n",
       "    <tr>\n",
       "      <th></th>\n",
       "      <th>transformer</th>\n",
       "      <th colspan=\"11\" halign=\"left\">duration</th>\n",
       "      <th>speed_up</th>\n",
       "    </tr>\n",
       "    <tr>\n",
       "      <th></th>\n",
       "      <th></th>\n",
       "      <th>count</th>\n",
       "      <th>mean</th>\n",
       "      <th>std</th>\n",
       "      <th>min</th>\n",
       "      <th>25%</th>\n",
       "      <th>50%</th>\n",
       "      <th>75%</th>\n",
       "      <th>90%</th>\n",
       "      <th>95%</th>\n",
       "      <th>99%</th>\n",
       "      <th>max</th>\n",
       "      <th></th>\n",
       "    </tr>\n",
       "  </thead>\n",
       "  <tbody>\n",
       "    <tr>\n",
       "      <th>2</th>\n",
       "      <td>numpy</td>\n",
       "      <td>100.0</td>\n",
       "      <td>0.434948</td>\n",
       "      <td>0.151147</td>\n",
       "      <td>0.404994</td>\n",
       "      <td>0.412994</td>\n",
       "      <td>0.415368</td>\n",
       "      <td>0.421428</td>\n",
       "      <td>0.433045</td>\n",
       "      <td>0.443563</td>\n",
       "      <td>0.484243</td>\n",
       "      <td>1.926819</td>\n",
       "      <td>1.000000</td>\n",
       "    </tr>\n",
       "    <tr>\n",
       "      <th>1</th>\n",
       "      <td>numba</td>\n",
       "      <td>100.0</td>\n",
       "      <td>0.351953</td>\n",
       "      <td>0.261586</td>\n",
       "      <td>0.316282</td>\n",
       "      <td>0.322256</td>\n",
       "      <td>0.323600</td>\n",
       "      <td>0.327890</td>\n",
       "      <td>0.333400</td>\n",
       "      <td>0.338479</td>\n",
       "      <td>0.392164</td>\n",
       "      <td>2.940553</td>\n",
       "      <td>1.235815</td>\n",
       "    </tr>\n",
       "    <tr>\n",
       "      <th>0</th>\n",
       "      <td>cython</td>\n",
       "      <td>100.0</td>\n",
       "      <td>0.169361</td>\n",
       "      <td>0.004136</td>\n",
       "      <td>0.161673</td>\n",
       "      <td>0.167056</td>\n",
       "      <td>0.168087</td>\n",
       "      <td>0.170590</td>\n",
       "      <td>0.174771</td>\n",
       "      <td>0.178389</td>\n",
       "      <td>0.184474</td>\n",
       "      <td>0.187602</td>\n",
       "      <td>2.568171</td>\n",
       "    </tr>\n",
       "  </tbody>\n",
       "</table>\n",
       "</div>"
      ],
      "text/plain": [
       "  transformer duration                                                    \\\n",
       "                 count      mean       std       min       25%       50%   \n",
       "2       numpy    100.0  0.434948  0.151147  0.404994  0.412994  0.415368   \n",
       "1       numba    100.0  0.351953  0.261586  0.316282  0.322256  0.323600   \n",
       "0      cython    100.0  0.169361  0.004136  0.161673  0.167056  0.168087   \n",
       "\n",
       "                                                     speed_up  \n",
       "        75%       90%       95%       99%       max            \n",
       "2  0.421428  0.433045  0.443563  0.484243  1.926819  1.000000  \n",
       "1  0.327890  0.333400  0.338479  0.392164  2.940553  1.235815  \n",
       "0  0.170590  0.174771  0.178389  0.184474  0.187602  2.568171  "
      ]
     },
     "execution_count": 9,
     "metadata": {},
     "output_type": "execute_result"
    }
   ],
   "source": [
    "# Define the order of the categories\n",
    "order = ['numpy', 'numba', 'cython']\n",
    "\n",
    "# Convert the 'transformer' column to a categorical type\n",
    "df_results['transformer'] = df_results['transformer'].astype('category')\n",
    "df_results['transformer'] = df_results['transformer'].cat.set_categories(order)\n",
    "df_results.sort_values('transformer', inplace=True)\n",
    "\n",
    "# compute speed up relative to numpy\n",
    "df_results['speed_up'] = df_results[df_results.transformer == 'numpy'][('duration', 'mean')].values[0] / df_results[('duration', 'mean')] \n",
    "df_results\n"
   ]
  },
  {
   "cell_type": "code",
   "execution_count": 10,
   "metadata": {},
   "outputs": [
    {
     "data": {
      "text/plain": [
       "<Figure size 1000x600 with 0 Axes>"
      ]
     },
     "metadata": {},
     "output_type": "display_data"
    },
    {
     "data": {
      "image/png": "[encoded data removed]",
      "text/plain": [
       "<Figure size 640x480 with 1 Axes>"
      ]
     },
     "metadata": {},
     "output_type": "display_data"
    }
   ],
   "source": [
    "import matplotlib.pyplot as plt\n",
    "\n",
    "\n",
    "# Sort the DataFrame by the 'transformer' column\n",
    "df_results = df_results.sort_values('transformer')\n",
    "\n",
    "# Now you can create your bar plot as before\n",
    "plt.figure(figsize=(10, 6))\n",
    "df_results.plot(kind='bar', x='transformer', y=('duration', 'mean'), legend=False)\n",
    "plt.title('Mean Duration for Each Transformer')\n",
    "plt.xlabel('Transformer')\n",
    "plt.ylabel('Mean Duration (seconds)')\n",
    "plt.show()"
   ]
  },
  {
   "cell_type": "code",
   "execution_count": 11,
   "metadata": {},
   "outputs": [
    {
     "data": {
      "text/plain": [
       "<Figure size 1000x600 with 0 Axes>"
      ]
     },
     "metadata": {},
     "output_type": "display_data"
    },
    {
     "data": {
      "image/png": "[encoded data removed]",
      "text/plain": [
       "<Figure size 640x480 with 1 Axes>"
      ]
     },
     "metadata": {},
     "output_type": "display_data"
    }
   ],
   "source": [
    "plt.figure(figsize=(10, 6))\n",
    "df_results.plot(kind='bar', x='transformer', y='speed_up', legend=False)\n",
    "plt.title('Speedup for Each Transformer')\n",
    "plt.xlabel('Transformer')\n",
    "plt.ylabel('Speedup')\n",
    "plt.show()"
   ]
  }
 ],
 "metadata": {
  "kernelspec": {
   "display_name": "Python 3 (ipykernel)",
   "language": "python",
   "name": "python3"
  },
  "language_info": {
   "codemirror_mode": {
    "name": "ipython",
    "version": 3
   },
   "file_extension": ".py",
   "mimetype": "text/x-python",
   "name": "python",
   "nbconvert_exporter": "python",
   "pygments_lexer": "ipython3",
   "version": "3.10.13"
  }
 },
 "nbformat": 4,
 "nbformat_minor": 2
}
