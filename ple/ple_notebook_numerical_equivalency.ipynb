{
 "cells": [
  {
   "cell_type": "code",
   "execution_count": 1,
   "metadata": {},
   "outputs": [],
   "source": [
    "import sys\n",
    "\n",
    "import numpy as np\n",
    "import pandas as pd\n",
    "\n",
    "from sklearn.datasets import make_regression\n",
    "\n",
    "from ple_transformer import PiecewiseLinearEncoderNumpy, PiecewiseLinearEncoderNumbaV0, PiecewiseLinearEncoderNumbaV1, PiecewiseLinearEncoderCython"
   ]
  },
  {
   "cell_type": "code",
   "execution_count": 2,
   "metadata": {},
   "outputs": [
    {
     "name": "stdout",
     "output_type": "stream",
     "text": [
      "   Feature_1  Feature_2  Feature_3  Feature_4  Feature_5  Feature_6  \\\n",
      "0   2.669134   0.935506   0.119068   0.397455  -0.797867   1.063694   \n",
      "1  -0.280565  -0.737132  -0.073916   0.266521   0.950513  -0.318143   \n",
      "2  -1.545541  -0.813349   2.552004  -1.885060   1.019922  -0.546040   \n",
      "3  -0.176935   1.082176   1.856537  -0.444410   0.462096   0.063075   \n",
      "4   0.730443  -2.839458   0.602569  -0.249875  -1.140106  -0.024486   \n",
      "\n",
      "   Feature_7  Feature_8  Feature_9  Feature_10  ...  Feature_91  Feature_92  \\\n",
      "0   0.223034  -0.394869   0.549681    0.203443  ...   -0.977882   -0.327025   \n",
      "1   2.210178  -0.486361   1.207417   -0.132859  ...   -1.732534    0.704593   \n",
      "2  -0.089909  -1.040497   0.124978    0.926639  ...   -0.860770    1.445409   \n",
      "3   1.173178  -0.860313   0.186985   -0.392830  ...   -0.649400   -1.150807   \n",
      "4   0.068322   0.137987   1.836735   -0.455747  ...    0.026673    1.308732   \n",
      "\n",
      "   Feature_93  Feature_94  Feature_95  Feature_96  Feature_97  Feature_98  \\\n",
      "0   -0.995281   -0.822607   -0.600539   -0.695782   -0.028728    0.637043   \n",
      "1   -0.424470    0.468379    0.981020   -2.115872   -1.240888    2.923895   \n",
      "2    0.542343    1.116577    0.776517    0.162826    0.842292   -0.158716   \n",
      "3   -0.082546   -0.428439    0.642318   -0.566727    0.295041   -0.183907   \n",
      "4    1.726622    0.134958    1.473489    1.516282   -0.876737    1.525617   \n",
      "\n",
      "   Feature_99  Feature_100  \n",
      "0    0.023678     0.230159  \n",
      "1   -1.832997    -0.175937  \n",
      "2    2.049664    -0.178237  \n",
      "3   -0.469996     0.480571  \n",
      "4    0.207874     1.301661  \n",
      "\n",
      "[5 rows x 100 columns]\n"
     ]
    }
   ],
   "source": [
    "NUM_FEATURES = 100\n",
    "NUM_BINS = 45\n",
    "NUM_SAMPLES = 10_000\n",
    "# Generate synthetic regression data\n",
    "X, y = make_regression(n_samples=NUM_SAMPLES, n_features=NUM_FEATURES, noise=0.1, random_state=1)\n",
    "\n",
    "# Convert to pandas DataFrame\n",
    "df = pd.DataFrame(data=X, columns=[f'Feature_{i}' for i in range(1, NUM_FEATURES+1)])\n",
    "df['Target'] = y\n",
    "\n",
    "df_data = df.drop('Target', axis=1).astype('float32')\n",
    "\n",
    "print(df_data.head())"
   ]
  },
  {
   "cell_type": "code",
   "execution_count": 3,
   "metadata": {},
   "outputs": [
    {
     "name": "stdout",
     "output_type": "stream",
     "text": [
      "Running Numpy\n",
      "Running NumbaV0\n",
      "Running NumbaV1\n",
      "Running Cython\n",
      "CPU times: user 7.35 s, sys: 590 ms, total: 7.94 s\n",
      "Wall time: 7.32 s\n"
     ]
    }
   ],
   "source": [
    "%%time\n",
    "encoded_values =[]\n",
    "\n",
    "transformer_list = [\n",
    "    PiecewiseLinearEncoderNumpy(num_bins=NUM_BINS),\n",
    "    PiecewiseLinearEncoderNumbaV0(num_bins=NUM_BINS),\n",
    "    PiecewiseLinearEncoderNumbaV1(num_bins=NUM_BINS),\n",
    "    PiecewiseLinearEncoderCython(num_bins=NUM_BINS),\n",
    "]\n",
    "\n",
    "for transformer in transformer_list:\n",
    "    short_name = transformer.__class__.__name__.replace('PiecewiseLinearEncoder', '')\n",
    "    print(f'Running {short_name}')\n",
    "    transformer.fit(df_data)\n",
    "    encoded_values.append((short_name, transformer.fit_transform(df_data)))\n",
    "\n"
   ]
  },
  {
   "cell_type": "code",
   "execution_count": 4,
   "metadata": {},
   "outputs": [
    {
     "name": "stdout",
     "output_type": "stream",
     "text": [
      "transformer NumbaV0 and transformer Numpy? True\n",
      "transformer NumbaV1 and transformer Numpy? True\n",
      "transformer Cython and transformer Numpy? False\n",
      "\tnumber of values: 45,000,000, number of mismatches: 775,155\n",
      "\tpercent of mismatches: 1.72%\n",
      "\tmax absolute difference: 6.016343832015991e-07\n"
     ]
    }
   ],
   "source": [
    "\n",
    "numpy_encoded_value = encoded_values[0][1]\n",
    "# loop through the encoded values to compare 2nd through the last values with the first one in the list\n",
    "for i in range(1, len(encoded_values)):\n",
    "    transformer_name = encoded_values[i][0]\n",
    "    encoded_value = encoded_values[i][1]\n",
    "    equal_flag = np.array_equal(encoded_value, numpy_encoded_value)\n",
    "    print(f'transformer {transformer_name} and transformer Numpy? {equal_flag}')\n",
    "    if not equal_flag:\n",
    "        print(f'\\tnumber of values: {np.size(encoded_value):,d}, number of mismatches: {np.sum(encoded_value != numpy_encoded_value):,d}')\n",
    "        print(f'\\tpercent of mismatches: {np.sum(encoded_value != numpy_encoded_value) / np.size(encoded_value):.2%}')\n",
    "        print(f'\\tmax absolute difference: {np.max(np.abs(encoded_value - numpy_encoded_value))}')\n",
    "        "
   ]
  }
 ],
 "metadata": {
  "kernelspec": {
   "display_name": "Python 3",
   "language": "python",
   "name": "python3"
  },
  "language_info": {
   "codemirror_mode": {
    "name": "ipython",
    "version": 3
   },
   "file_extension": ".py",
   "mimetype": "text/x-python",
   "name": "python",
   "nbconvert_exporter": "python",
   "pygments_lexer": "ipython3",
   "version": "3.10.13"
  }
 },
 "nbformat": 4,
 "nbformat_minor": 2
}
